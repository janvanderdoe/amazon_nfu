{
 "cells": [
  {
   "cell_type": "code",
   "execution_count": null,
   "metadata": {},
   "outputs": [],
   "source": [
    "import requests\n",
    "from bs4 import BeautifulSoup\n",
    "import time\n",
    "import csv"
   ]
  },
  {
   "cell_type": "code",
   "execution_count": null,
   "metadata": {},
   "outputs": [],
   "source": [
    "def get_soup(url):\n",
    "    t = 0\n",
    "    if url.startswith(\"https://www.amazon.com/dp/\") or url.startswith(\"https://www.amazon.com/s?i\"):\n",
    "        time_wait = 20\n",
    "    else:\n",
    "        time_wait = 2\n",
    "    while True:\n",
    "        r = requests.get(\"http://localhost:8050/render.html\", params={\"url\": url,'wait': time_wait, 'viewport': '320x480', 'images': 0, 'resource_timeout': 10})\n",
    "        soup = BeautifulSoup(r.text, \"html.parser\")\n",
    "        if soup.text.find('GlobalTimeoutError') != -1:\n",
    "            time.sleep(31)\n",
    "            print(f\"time sleep try {t}\")\n",
    "            time_wait += 4\n",
    "            if t == 2:\n",
    "                print(f\"too many timeouts (2) for url: {url}\")\n",
    "                break\n",
    "            t += 1\n",
    "        else:\n",
    "            print(f\"page successfully loaded in time {time_wait}: {url}\")\n",
    "            break       \n",
    "    return soup"
   ]
  },
  {
   "cell_type": "code",
   "execution_count": null,
   "metadata": {},
   "outputs": [],
   "source": [
    "def get_link_asin(link):\n",
    "    link_asin = {}\n",
    "    splitted_link = link['href'].split('/')\n",
    "    name = splitted_link[1]\n",
    "    link_asin['link'] = name\n",
    "    asin = splitted_link[3]\n",
    "    link_asin['asin'] = asin\n",
    "    #You can create the link to the review page with the name and asin\n",
    "    link_asin['full_link'] = \"https://www.amazon.com/\"+str(name)+\"/product-reviews/\"+str(asin)+\"/ref=cm_cr_dp_d_show_all_btm?ie=UTF8&reviewerType=all_reviews&pageNumber=\"\n",
    "    return link_asin"
   ]
  },
  {
   "cell_type": "code",
   "execution_count": null,
   "metadata": {},
   "outputs": [],
   "source": [
    "all_product_links = []\n",
    "a = 0\n",
    "i = 100\n",
    "with open(f\"../../gen/input/amazon_links.csv\", \"a\", encoding = \"UTF-8\", newline = '') as csv_file:\n",
    "    writer = csv.writer(csv_file, delimiter = \";\")\n",
    "    while True:\n",
    "        #page link filtered on Ios, android and windows (to avoid including non-smartphone phones) and including out-of-stock\n",
    "        page_link = f\"https://www.amazon.com/s?i=mobile&bbn=7072561011&rh=n%3A7072561011%2Cp_n_availability%3A2661601011%2Cp_n_feature_twenty_browse-bin%3A17881876011%7C17881878011%7C17881879011&dc&fs=true&page={i}&qid=1665060482&rnid=17881875011&ref=sr_pg_{i}\"\n",
    "        soup = get_soup(page_link)\n",
    "        print(f\"currently looking at page {i}\")\n",
    "        #Block usually after about 100 pages\n",
    "        if soup.title.text==\"Sorry! Something went wrong!\":\n",
    "            print(\"Blocked\")\n",
    "            break\n",
    "        #If not block, gather asin and link\n",
    "        else:\n",
    "            links = soup.find_all(class_=\"a-link-normal s-no-outline\")\n",
    "        for link in links:\n",
    "            if link['href'].find('/dp/') != -1 and not link['href'].startswith('/dp/'):\n",
    "                link_asin = get_link_asin(link)\n",
    "                all_product_links.append(link_asin)\n",
    "                writer.writerow(list(link_asin.values()))\n",
    "        #Try to find next page button. If absent, break\n",
    "        try:\n",
    "            soup.find('span', class_ = \"s-pagination-item s-pagination-next s-pagination-disabled\").text\n",
    "            print('last page')\n",
    "            break\n",
    "        except:\n",
    "            pass\n",
    "        print(len(all_product_links))\n",
    "        i += 1"
   ]
  }
 ],
 "metadata": {
  "kernelspec": {
   "display_name": "Python 3",
   "language": "python",
   "name": "python3"
  },
  "language_info": {
   "codemirror_mode": {
    "name": "ipython",
    "version": 3
   },
   "file_extension": ".py",
   "mimetype": "text/x-python",
   "name": "python",
   "nbconvert_exporter": "python",
   "pygments_lexer": "ipython3",
   "version": "3.8.3"
  }
 },
 "nbformat": 4,
 "nbformat_minor": 4
}
